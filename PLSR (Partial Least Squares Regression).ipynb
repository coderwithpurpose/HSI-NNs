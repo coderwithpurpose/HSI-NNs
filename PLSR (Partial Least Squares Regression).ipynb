{
 "cells": [
  {
   "cell_type": "code",
   "execution_count": 1,
   "metadata": {
    "collapsed": true
   },
   "outputs": [],
   "source": [
    "%matplotlib inline\n",
    "from sklearn.datasets import load_iris\n",
    "import numpy as np\n",
    "import matplotlib.pyplot as plt\n",
    "from sklearn.preprocessing import scale \n",
    "from sklearn import model_selection\n",
    "from sklearn.decomposition import PCA\n",
    "from sklearn.linear_model import LinearRegression\n",
    "from sklearn.cross_decomposition import PLSRegression, PLSSVD\n",
    "from sklearn.metrics import mean_squared_error\n",
    "from sklearn.model_selection import train_test_split #### shuffling is defult ### \n",
    "import matplotlib.patches as mpatches ### will be used for legend labeling ### "
   ]
  },
  {
   "cell_type": "code",
   "execution_count": 2,
   "metadata": {},
   "outputs": [
    {
     "name": "stdout",
     "output_type": "stream",
     "text": [
      "(145, 145)\n"
     ]
    },
    {
     "name": "stderr",
     "output_type": "stream",
     "text": [
      "C:\\ProgramData\\Anaconda3\\lib\\site-packages\\sklearn\\utils\\validation.py:429: DataConversionWarning: Data with input dtype uint16 was converted to float64 by the scale function.\n",
      "  warnings.warn(msg, _DataConversionWarning)\n"
     ]
    }
   ],
   "source": [
    "#                         #####  Preprocessing   #####\n",
    "# data = load_iris()\n",
    "# X_train, X_test, y_train, y_test = train_test_split(data['data'], data['target'], test_size=0.20) \n",
    "\n",
    "\n",
    "_3d_data_set = np.load('Datasets/Indian Pines/indianpinearray.npy') \n",
    "# print(_3d_data_set[:,:,1]) \n",
    "ground_truth = np.load('Datasets/Indian Pines/IPgt.npy') \n",
    "data_set = np.reshape(_3d_data_set,(145*145,200)) \n",
    "print(np.shape(ground_truth))\n",
    "ground_truth = np.reshape(ground_truth,(145*145))\n",
    "X_train, X_test, y_train, y_test = train_test_split(data_set, ground_truth, test_size=0.30) \n",
    "###### scale and choose number of features for best accuracy ##### \n",
    "###### scale and choose number of features for best accuracy ##### \n",
    "pca = PCA()\n",
    "X_reduced = pca.fit_transform(scale(X_train))\n"
   ]
  },
  {
   "cell_type": "code",
   "execution_count": 6,
   "metadata": {},
   "outputs": [
    {
     "data": {
      "text/plain": [
       "(14717, 200)"
      ]
     },
     "execution_count": 6,
     "metadata": {},
     "output_type": "execute_result"
    }
   ],
   "source": [
    "X_reduced.shape"
   ]
  },
  {
   "cell_type": "code",
   "execution_count": 10,
   "metadata": {},
   "outputs": [
    {
     "data": {
      "text/plain": [
       "(14717, 200)"
      ]
     },
     "execution_count": 10,
     "metadata": {},
     "output_type": "execute_result"
    }
   ],
   "source": [
    "X_train.shape"
   ]
  },
  {
   "cell_type": "code",
   "execution_count": 7,
   "metadata": {},
   "outputs": [
    {
     "name": "stdout",
     "output_type": "stream",
     "text": [
      "14717\n",
      "(14717, 200)\n"
     ]
    }
   ],
   "source": [
    "n , num_features = np.shape(X_reduced) \n",
    "print(n)\n",
    "print(np.shape(X_train))\n",
    "# 10 folds for validation \n",
    "kf_10 = model_selection.KFold(n_splits=10, shuffle=True, random_state=1)\n",
    "\n",
    "#### the first mse value is for no pc in regression ##### \n",
    "mse_calibration = np.ones(num_features + 1 ) \n",
    "mse_validation = np.ones(num_features + 1 ) "
   ]
  },
  {
   "cell_type": "code",
   "execution_count": 24,
   "metadata": {},
   "outputs": [
    {
     "data": {
      "image/png": "[encoded data removed]",
      "text/plain": [
       "<Figure size 432x288 with 1 Axes>"
      ]
     },
     "metadata": {},
     "output_type": "display_data"
    }
   ],
   "source": [
    "%%capture --no-display\n",
    "# 10-fold CV, with shuffle\n",
    "kf_10 = model_selection.KFold(n_splits=10, shuffle=True, random_state=1)\n",
    "\n",
    "# Calculate MSE using CV for the ## principle components, adding one component at the time.\n",
    "for i in np.arange(1, 20): \n",
    "    pls = PLSRegression(n_components=i)\n",
    "        ##### training ####\n",
    "    mse_calibration[i] =  -1*model_selection.cross_val_score(pls, scale(X_train), y_train.ravel(), cv=kf_10, scoring='neg_mean_squared_error').mean()\n",
    "      #### validating ##### \n",
    "    mse_validation[i] = -1*model_selection.cross_val_score(pls, X_test, y_test.ravel(), cv=kf_10, scoring='neg_mean_squared_error').mean()\n",
    "    \n",
    "\n",
    "plt.plot(np.array(mse_calibration), '-v' , color = 'blue') \n",
    "plt.plot(np.array(mse_validation), '-v' , color = 'orange')\n",
    "plt.xlabel('Number of principal components in regression')\n",
    "plt.ylabel('MSE')\n",
    "plt.title(' MSE of PLSR with differene n_compoenets ')\n",
    "plt.xlim(xmin=-0.2); \n",
    "red_patch = mpatches.Patch(color='orange', label='validation_set') \n",
    "blue_patch = mpatches.Patch(color='blue', label='calibration_set')\n",
    "plt.legend(handles=[blue_patch , red_patch]) \n",
    "print(' mse_calibration = ' , mse_calibration) \n",
    "print('  mse_validation = ' , mse_validation)"
   ]
  },
  {
   "cell_type": "code",
   "execution_count": 28,
   "metadata": {},
   "outputs": [
    {
     "name": "stdout",
     "output_type": "stream",
     "text": [
      " mse_calibration =  3.0942986949877436\n",
      "  mse_validation =  [ 1.         27.95903758 27.93426819 27.82526048 27.77109611 27.78999172\n",
      " 27.84071465 27.90316833 27.92803511 27.91700318 27.87903486 27.9083326\n",
      " 27.96000784 28.04375174 28.00382655 28.02869895 28.04762639 28.08563351\n",
      " 28.12632643 28.07768521  1.          1.          1.          1.\n",
      "  1.          1.          1.          1.          1.          1.\n",
      "  1.          1.          1.          1.          1.          1.\n",
      "  1.          1.          1.          1.          1.          1.\n",
      "  1.          1.          1.          1.          1.          1.\n",
      "  1.          1.          1.          1.          1.          1.\n",
      "  1.          1.          1.          1.          1.          1.\n",
      "  1.          1.          1.          1.          1.          1.\n",
      "  1.          1.          1.          1.          1.          1.\n",
      "  1.          1.          1.          1.          1.          1.\n",
      "  1.          1.          1.          1.          1.          1.\n",
      "  1.          1.          1.          1.          1.          1.\n",
      "  1.          1.          1.          1.          1.          1.\n",
      "  1.          1.          1.          1.          1.          1.\n",
      "  1.          1.          1.          1.          1.          1.\n",
      "  1.          1.          1.          1.          1.          1.\n",
      "  1.          1.          1.          1.          1.          1.\n",
      "  1.          1.          1.          1.          1.          1.\n",
      "  1.          1.          1.          1.          1.          1.\n",
      "  1.          1.          1.          1.          1.          1.\n",
      "  1.          1.          1.          1.          1.          1.\n",
      "  1.          1.          1.          1.          1.          1.\n",
      "  1.          1.          1.          1.          1.          1.\n",
      "  1.          1.          1.          1.          1.          1.\n",
      "  1.          1.          1.          1.          1.          1.\n",
      "  1.          1.          1.          1.          1.          1.\n",
      "  1.          1.          1.          1.          1.          1.\n",
      "  1.          1.          1.          1.          1.          1.\n",
      "  1.          1.          1.          1.          1.          1.\n",
      "  1.          1.          1.          1.          1.          1.\n",
      "  1.          1.          1.        ]\n"
     ]
    }
   ],
   "source": [
    "print(' mse_calibration = ' , np.mean(mse_calibration)) \n",
    "print('  mse_validation = ' , (mse_validation))"
   ]
  },
  {
   "cell_type": "code",
   "execution_count": 18,
   "metadata": {
    "collapsed": true
   },
   "outputs": [],
   "source": [
    "from sklearn.decomposition import PCA\n",
    "pca = PCA(n_components= 170)\n",
    "principalComponents = pca.fit_transform(X_train)"
   ]
  },
  {
   "cell_type": "code",
   "execution_count": 19,
   "metadata": {},
   "outputs": [
    {
     "name": "stderr",
     "output_type": "stream",
     "text": [
      "C:\\ProgramData\\Anaconda3\\lib\\site-packages\\sklearn\\utils\\validation.py:429: DataConversionWarning: Data with input dtype uint16 was converted to float64 by the scale function.\n",
      "  warnings.warn(msg, _DataConversionWarning)\n"
     ]
    },
    {
     "data": {
      "text/plain": [
       "2196.5093123744714"
      ]
     },
     "execution_count": 19,
     "metadata": {},
     "output_type": "execute_result"
    }
   ],
   "source": [
    "# optimal_n = np.argmin(mse_validation) \n",
    "pls = PLSRegression(n_components =170)\n",
    "pls.fit(scale(principalComponents), y_train)\n",
    "principalComponents_test = pca.fit_transform(scale(X_test))\n",
    "mean_squared_error(y_test, pls.predict(principalComponents_test))  "
   ]
  },
  {
   "cell_type": "code",
   "execution_count": 21,
   "metadata": {
    "collapsed": true
   },
   "outputs": [],
   "source": [
    "y_pred = pls.predict(principalComponents_test)"
   ]
  }
 ],
 "metadata": {
  "kernelspec": {
   "display_name": "Python 3",
   "language": "python",
   "name": "python3"
  },
  "language_info": {
   "codemirror_mode": {
    "name": "ipython",
    "version": 3
   },
   "file_extension": ".py",
   "mimetype": "text/x-python",
   "name": "python",
   "nbconvert_exporter": "python",
   "pygments_lexer": "ipython3",
   "version": "3.6.7"
  }
 },
 "nbformat": 4,
 "nbformat_minor": 2
}
