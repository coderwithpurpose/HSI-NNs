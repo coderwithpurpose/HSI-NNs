{
 "cells": [
  {
   "cell_type": "code",
   "execution_count": 1,
   "metadata": {
    "collapsed": true
   },
   "outputs": [],
   "source": [
    "%matplotlib inline\n",
    "from sklearn.datasets import load_iris\n",
    "#### build PCR model ####  \n",
    "import numpy as np\n",
    "import matplotlib.pyplot as plt\n",
    "from sklearn.preprocessing import scale \n",
    "from sklearn import model_selection\n",
    "from sklearn.decomposition import PCA\n",
    "from sklearn.linear_model import LinearRegression\n",
    "from sklearn.metrics import mean_squared_error\n",
    "from sklearn.model_selection import train_test_split #### shuffling is defult ### \n",
    "import matplotlib.patches as mpatches ### will be used for legend labeling ### "
   ]
  },
  {
   "cell_type": "code",
   "execution_count": 80,
   "metadata": {
    "collapsed": true
   },
   "outputs": [],
   "source": [
    "                        #####  Preprocessing   #####\n",
    "data = load_iris()\n",
    "X_train, X_test, y_train, y_test = train_test_split(data['data'], data['target'], test_size=0.20) \n",
    "###### scale and choose number of features for best accuracy ##### \n",
    "pca = PCA()\n",
    "X_reduced = pca.fit_transform(scale(X_train))\n",
    "n ,num_features = np.shape(X_reduced)\n",
    "# 10 folds for validation \n",
    "kf_10 = model_selection.KFold(n_splits=10, shuffle=True, random_state=1)\n",
    "\n",
    "#### the first mse value is for no pc in regression ##### \n",
    "mse_calibration = np.ones(num_features + 1 ) \n",
    "mse_validation = np.ones(num_features + 1 ) "
   ]
  },
  {
   "cell_type": "code",
   "execution_count": 60,
   "metadata": {},
   "outputs": [
    {
     "name": "stdout",
     "output_type": "stream",
     "text": [
      " mse_calibration =  [ 0.66948731  0.07406455  0.0741891   0.05298832  0.05360654]\n",
      "  mse_validation =  [ 1.          0.0756549   0.07548489  0.0410912   0.04267272]\n"
     ]
    },
    {
     "name": "stderr",
     "output_type": "stream",
     "text": [
      "C:\\ProgramData\\Anaconda3\\lib\\site-packages\\matplotlib\\axes\\_base.py:3215: MatplotlibDeprecationWarning: \n",
      "The `xmin` argument was deprecated in Matplotlib 3.0 and will be removed in 3.2. Use `left` instead.\n",
      "  alternative='`left`', obj_type='argument')\n"
     ]
    },
    {
     "data": {
      "image/png": "[encoded data removed]",
      "text/plain": [
       "<Figure size 432x288 with 1 Axes>"
      ]
     },
     "metadata": {},
     "output_type": "display_data"
    }
   ],
   "source": [
    "\n",
    "#### regression model ###  \n",
    "regr = LinearRegression()\n",
    "\n",
    "# Calculate MSE with only the intercept (no principal components in regression)\n",
    "    ##### training ####\n",
    "calibration_score = -1*model_selection.cross_val_score(regr, np.ones((n,1)), y_train.ravel(), cv=kf_10, scoring='neg_mean_squared_error').mean()    \n",
    "mse_calibration[0] = calibration_score \n",
    "\n",
    "\n",
    "# Calculate MSE using CV for the ## principle components, adding one component at the time.\n",
    "for i in np.arange(1, 5): \n",
    "        ##### training ####\n",
    "    X_reduced_training = pca.transform(scale(X_train))[:,:i] \n",
    "    mse_calibration[i] =  -1*model_selection.cross_val_score(regr, X_reduced_training[:,:i], y_train.ravel(), cv=kf_10, scoring='neg_mean_squared_error').mean()\n",
    "      #### validating ##### \n",
    "    X_reduced_test = pca.transform(scale(X_test))[:,:i] \n",
    "    mse_validation[i] = -1*model_selection.cross_val_score(regr, X_reduced_test, y_test.ravel(), cv=kf_10, scoring='neg_mean_squared_error').mean()\n",
    "    \n",
    "\n",
    "\n",
    "plt.plot(np.array(mse_calibration), '-v' , color = 'blue') \n",
    "plt.plot(np.array(mse_validation), '-v' , color = 'orange')\n",
    "plt.xlabel('Number of principal components in regression')\n",
    "plt.ylabel('MSE')\n",
    "plt.title(' Optimal number of PC')\n",
    "plt.xlim(xmin=-0.2); \n",
    "red_patch = mpatches.Patch(color='orange', label='validation_set') \n",
    "blue_patch = mpatches.Patch(color='blue', label='calibration_set')\n",
    "plt.legend(handles=[blue_patch , red_patch]) \n",
    "print(' mse_calibration = ' , mse_calibration) \n",
    "print('  mse_validation = ' , mse_validation)"
   ]
  },
  {
   "cell_type": "code",
   "execution_count": 63,
   "metadata": {},
   "outputs": [
    {
     "name": "stdout",
     "output_type": "stream",
     "text": [
      "best_pc for validation is  =  3\n",
      "best_pc for calibration is  =  3\n"
     ]
    },
    {
     "data": {
      "text/plain": [
       "0.036572674658797745"
      ]
     },
     "execution_count": 63,
     "metadata": {},
     "output_type": "execute_result"
    }
   ],
   "source": [
    "print( 'best_pc for validation is  = ' , np.argmin(mse_validation))  \n",
    "print( 'best_pc for calibration is  = ' , np.argmin(mse_calibration)) \n",
    "####### teststing and validating ###### \n",
    "best_pca = np.argmin(mse) + 1\n",
    "X_reduced_test = pca.transform(scale(X_test))[:,:4]\n",
    "# Train regression model on training data \n",
    "regr = LinearRegression()\n",
    "regr.fit(X_reduced[:,:4], y_train)\n",
    "# Prediction with test data\n",
    "pred = regr.predict(X_reduced_test)\n",
    "mean_squared_error(y_test, pred)"
   ]
  },
  {
   "cell_type": "code",
   "execution_count": 4,
   "metadata": {},
   "outputs": [
    {
     "name": "stdout",
     "output_type": "stream",
     "text": [
      "[[4142 4266 4266 ..., 3890 4130 3890]\n",
      " [4388 4264 4268 ..., 4512 4264 4268]\n",
      " [4146 4389 4273 ..., 4266 4262 4142]\n",
      " ..., \n",
      " [3728 3604 3612 ..., 4115 4111 3991]\n",
      " [3731 3742 4114 ..., 3858 3858 3866]\n",
      " [3728 3728 3728 ..., 3864 4104 3860]]\n"
     ]
    }
   ],
   "source": [
    "######### Test for hyperspectral Imaging ###### \n",
    "                        #####  Preprocessing   #####\n",
    "import numpy as np   \n",
    "import spectral \n",
    "from sklearn.model_selection import train_test_split #### shuffling is defult ### \n",
    "\n",
    "_3d_data_set = np.load('Datasets/Indian Pines/indianpinearray.npy') \n",
    "print(_3d_data_set[:,:,1])\n",
    "ground_truth = np.load('Datasets/Indian Pines/IPgt.npy') \n",
    "data_set = np.reshape(_3d_data_set,(145*145,200)) \n",
    "ground_truth = np.reshape(ground_truth,(145*145))\n",
    "X_train, X_test, y_train, y_test = train_test_split(data_set, ground_truth, test_size=0.35) \n",
    "###### scale and choose number of features for best accuracy ##### \n"
   ]
  },
  {
   "cell_type": "code",
   "execution_count": 5,
   "metadata": {},
   "outputs": [
    {
     "name": "stdout",
     "output_type": "stream",
     "text": [
      "(13666, 200)\n",
      "(7359, 200)\n",
      "(13666,)\n",
      "(7359,)\n",
      "(21025, 200)\n"
     ]
    }
   ],
   "source": [
    "print(X_train.shape) \n",
    "print(X_test.shape) \n",
    "print(y_train.shape) \n",
    "print(y_test.shape) \n",
    "print(np.shape(data_set))"
   ]
  },
  {
   "cell_type": "code",
   "execution_count": 18,
   "metadata": {},
   "outputs": [
    {
     "name": "stderr",
     "output_type": "stream",
     "text": [
      "C:\\ProgramData\\Anaconda3\\lib\\site-packages\\sklearn\\utils\\validation.py:429: DataConversionWarning: Data with input dtype uint16 was converted to float64 by the scale function.\n",
      "  warnings.warn(msg, _DataConversionWarning)\n"
     ]
    }
   ],
   "source": [
    "pca = PCA()\n",
    "X_reduced = pca.fit_transform(scale(X_train))\n",
    "n ,num_features = np.shape(X_reduced)\n",
    "# 10 folds for validation \n",
    "kf_10 = model_selection.KFold(n_splits=10, shuffle=True, random_state=1)\n",
    "\n",
    "#### the first mse value is for no pc in regression ##### \n",
    "# mse_calibration = [100] *(num_features + 1 ) \n",
    "# mse_validation = [100] * (num_features + 1 ) \n",
    "mse_calibration = [100] *(101 ) \n",
    "mse_validation = [100] * (101) "
   ]
  },
  {
   "cell_type": "code",
   "execution_count": 43,
   "metadata": {},
   "outputs": [
    {
     "data": {
      "text/plain": [
       "<matplotlib.legend.Legend at 0x18a0a6abf98>"
      ]
     },
     "execution_count": 43,
     "metadata": {},
     "output_type": "execute_result"
    },
    {
     "data": {
      "image/png": "[encoded data removed]",
      "text/plain": [
       "<Figure size 432x288 with 1 Axes>"
      ]
     },
     "metadata": {},
     "output_type": "display_data"
    }
   ],
   "source": [
    "%%capture --no-display\n",
    "\n",
    "#### regression model ###  \n",
    "regr = LinearRegression()\n",
    "\n",
    "# # Calculate MSE with only the intercept (no principal components in regression)\n",
    "#     ##### training ####\n",
    "calibration_score = -1*model_selection.cross_val_score(regr, np.ones((n,1)), y_train.ravel(), cv=kf_10, scoring='neg_mean_squared_error').mean()    \n",
    "mse_calibration[0] = calibration_score \n",
    "\n",
    "\n",
    "# Calculate MSE using CV for the ## principle components, adding one component at the time.\n",
    "for i in np.arange(1, 0): \n",
    "        ##### training ####\n",
    "    X_reduced_training = pca.transform(scale(X_train))[:,:i] \n",
    "    mse_calibration[i] =  -1*model_selection.cross_val_score(regr, X_reduced_training[:,:i], y_train.ravel(), cv=kf_10, scoring='neg_mean_squared_error').mean()\n",
    "      #### validating ##### \n",
    "    X_reduced_test = pca.transform(scale(X_test))[:,:i] \n",
    "    mse_validation[i] = -1*model_selection.cross_val_score(regr, X_reduced_test, y_test.ravel(), cv=kf_10, scoring='neg_mean_squared_error').mean()\n",
    "    \n",
    "\n",
    "\n",
    "plt.plot(np.array(mse_calibration), '-v' , color = 'blue') \n",
    "plt.plot(np.array(mse_validation), '-v' , color = 'orange')\n",
    "plt.xlabel('Number of principal components in regression')\n",
    "plt.ylabel('MSE')\n",
    "plt.title(' Optimal number of PC')\n",
    "plt.xlim(xmin=-3.0); \n",
    "red_patch = mpatches.Patch(color='orange', label='validation_set') \n",
    "blue_patch = mpatches.Patch(color='blue', label='calibration_set')\n",
    "plt.legend(handles=[blue_patch , red_patch]) \n",
    "print(' mse_calibration = ' , mse_calibration) \n",
    "print('  mse_validation = ' , mse_validation)"
   ]
  },
  {
   "cell_type": "code",
   "execution_count": 44,
   "metadata": {},
   "outputs": [
    {
     "data": {
      "text/plain": [
       "22.462022461615636"
      ]
     },
     "execution_count": 44,
     "metadata": {},
     "output_type": "execute_result"
    }
   ],
   "source": [
    "mse_validation[np.argmin(mse_validation )]"
   ]
  },
  {
   "cell_type": "code",
   "execution_count": 35,
   "metadata": {},
   "outputs": [
    {
     "name": "stdout",
     "output_type": "stream",
     "text": [
      "best_pc for validation is  =  94\n",
      "best_pc for calibration is  =  99\n"
     ]
    },
    {
     "name": "stderr",
     "output_type": "stream",
     "text": [
      "C:\\ProgramData\\Anaconda3\\lib\\site-packages\\sklearn\\utils\\validation.py:429: DataConversionWarning: Data with input dtype uint16 was converted to float64 by the scale function.\n",
      "  warnings.warn(msg, _DataConversionWarning)\n"
     ]
    },
    {
     "data": {
      "text/plain": [
       "22.275314282265697"
      ]
     },
     "execution_count": 35,
     "metadata": {},
     "output_type": "execute_result"
    }
   ],
   "source": [
    "print( 'best_pc for validation is  = ' , np.argmin(mse_validation))  \n",
    "print( 'best_pc for calibration is  = ' , np.argmin(mse_calibration)) \n",
    "####### teststing and validating ###### \n",
    "best_pca = np.argmin(mse_validation) + 1\n",
    "X_reduced_test = pca.transform(scale(X_test))[:,:best_pca]\n",
    "# Train regression model on training data \n",
    "regr = LinearRegression()\n",
    "regr.fit(X_reduced[:,:best_pca], y_train)\n",
    "# Prediction with test data\n",
    "pred = regr.predict(X_reduced_test)\n",
    "mean_squared_error(y_test, pred)"
   ]
  },
  {
   "cell_type": "code",
   "execution_count": 37,
   "metadata": {},
   "outputs": [
    {
     "data": {
      "text/plain": [
       "array([ 3.2068716 ,  2.17987996, -0.26792407, ...,  6.97716669,\n",
       "        5.66694399,  0.77087795])"
      ]
     },
     "execution_count": 37,
     "metadata": {},
     "output_type": "execute_result"
    }
   ],
   "source": [
    "pred"
   ]
  }
 ],
 "metadata": {
  "kernelspec": {
   "display_name": "Python 3",
   "language": "python",
   "name": "python3"
  },
  "language_info": {
   "codemirror_mode": {
    "name": "ipython",
    "version": 3
   },
   "file_extension": ".py",
   "mimetype": "text/x-python",
   "name": "python",
   "nbconvert_exporter": "python",
   "pygments_lexer": "ipython3",
   "version": "3.6.7"
  }
 },
 "nbformat": 4,
 "nbformat_minor": 2
}
